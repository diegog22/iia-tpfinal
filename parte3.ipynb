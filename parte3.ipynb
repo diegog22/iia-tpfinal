{
 "cells": [
  {
   "attachments": {},
   "cell_type": "markdown",
   "id": "27719223",
   "metadata": {},
   "source": [
    "\n",
    "# Trabajo práctico integrador\n",
    "\n",
    "Nombre: _Diego Gutierrez_"
   ]
  },
  {
   "attachments": {},
   "cell_type": "markdown",
   "id": "0362e5fc",
   "metadata": {},
   "source": [
    "## Tercera Parte (No supervisado)"
   ]
  },
  {
   "attachments": {},
   "cell_type": "markdown",
   "id": "73988b0f",
   "metadata": {},
   "source": [
    "### Sexto y Septimo Ejercicio\n",
    "\n",
    "Para este ejercicio vamos a considerar los siguientes datasets:\n",
    "\n",
    "* [HAR](https://archive.ics.uci.edu/ml/datasets/Human+Activity+Recognition+Using+Smartphones) (Ejercicio 3)\n",
    "* [MNIST](https://scikit-learn.org/stable/modules/generated/sklearn.datasets.load_digits.html) (Ejercicio 4)\n",
    "\n",
    "1. Aplicar PCA (validar que se cumplan las condiciones), ¿Cuántas componentes necesitamos para explicar el 80% de la varianza?\n",
    "2. Gráficar la variación acumulada para cada caso.\n",
    "3. Utilizando [KMeans](https://scikit-learn.org/stable/modules/generated/sklearn.cluster.KMeans.html). Agrupar el dataset transformado (ejercicio de PCA) y agrupar en clusters de $k=6$ (ej 6) y $k=10$ (ej 7). Luego en ambos casos probar con $k=2$.\n",
    "4. Graficar los resultados con los distintos k's usando las primeras dos componentes principales como ejes x,y.\n",
    "5. Explique. ¿Cuál fue la ganancia de usar PCA en conjunto con k-means?"
   ]
  },
  {
   "cell_type": "code",
   "execution_count": 1,
   "id": "b8e4a5b2",
   "metadata": {},
   "outputs": [],
   "source": [
    "import pandas as pd\n",
    "import numpy as np\n",
    "import matplotlib.pyplot as plt\n",
    "import seaborn as sns\n",
    "\n",
    "# Entrenamiento de modelos de prueba\n",
    "from sklearn.linear_model import LinearRegression\n",
    "\n",
    "# Evaluación de modelos de prueba\n",
    "from sklearn.metrics import mean_squared_error\n",
    "\n",
    "# Crear datasets\n",
    "from sklearn.datasets import make_regression"
   ]
  },
  {
   "cell_type": "code",
   "execution_count": 10,
   "id": "e569ddb1",
   "metadata": {},
   "outputs": [
    {
     "data": {
      "text/plain": [
       "(                          1 tBodyAcc-mean()-X\n",
       " 0                         2 tBodyAcc-mean()-Y\n",
       " 1                         3 tBodyAcc-mean()-Z\n",
       " 2                          4 tBodyAcc-std()-X\n",
       " 3                          5 tBodyAcc-std()-Y\n",
       " 4                          6 tBodyAcc-std()-Z\n",
       " ..                                        ...\n",
       " 555      557 angle(tBodyGyroMean,gravityMean)\n",
       " 556  558 angle(tBodyGyroJerkMean,gravityMean)\n",
       " 557                  559 angle(X,gravityMean)\n",
       " 558                  560 angle(Y,gravityMean)\n",
       " 559                  561 angle(Z,gravityMean)\n",
       " \n",
       " [560 rows x 1 columns],\n",
       "        0\n",
       " 0  label)"
      ]
     },
     "execution_count": 10,
     "metadata": {},
     "output_type": "execute_result"
    }
   ],
   "source": [
    "# Headers\n",
    "head_X = pd.read_table('har/features.txt', header=None)\n",
    "head_y = pd.DataFrame(['label'])\n",
    "\n",
    "head_X, head_y\n",
    "# Cargar datos\n",
    "#X_train = pd.read_fwf('har/train/X_train.txt')\n",
    "#y_train = pd.read_fwf('har/train/y_train.txt')\n",
    "#X_test = pd.read_fwf('har/test/X_test.txt')\n",
    "#y_test = pd.read_fwf('har/test/y_test.txt')\n",
    "\n",
    "#X_train.shape"
   ]
  }
 ],
 "metadata": {
  "kernelspec": {
   "display_name": "Python 3.10.7 ('.venv': venv)",
   "language": "python",
   "name": "python3"
  },
  "language_info": {
   "codemirror_mode": {
    "name": "ipython",
    "version": 3
   },
   "file_extension": ".py",
   "mimetype": "text/x-python",
   "name": "python",
   "nbconvert_exporter": "python",
   "pygments_lexer": "ipython3",
   "version": "3.9.2"
  },
  "vscode": {
   "interpreter": {
    "hash": "23cb2388443d556543181094e3ae896af451ee7d366981f58b81df73afb487db"
   }
  }
 },
 "nbformat": 4,
 "nbformat_minor": 5
}
